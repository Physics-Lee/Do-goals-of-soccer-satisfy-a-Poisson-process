{
 "cells": [
  {
   "cell_type": "markdown",
   "metadata": {},
   "source": [
    "Summary: for data of FIFA World Cup from 1962 to 2022\n",
    "* basic statistic\n",
    "  * The total number of goals: 2142\n",
    "  * The total number of matches: 752\n",
    "  * The average number of goals in a match: 2.8484\n",
    "  * Mean of time intervals between goals: 33.0589 min (don't connect two adjacent games)\n",
    "  * Mean of time intervals between goals: 20.2072 min (connect two adjacent games)\n",
    "* Poisson Process\n",
    "  * The fit of exponential distribution\n",
    "    * R^2 = 0.97616983 (don't connect two adjacent games)\n",
    "    * R^2 = 0.97616972 (connect two adjacent games)"
   ]
  },
  {
   "cell_type": "markdown",
   "metadata": {},
   "source": [
    "# load data"
   ]
  },
  {
   "cell_type": "code",
   "execution_count": 1,
   "metadata": {},
   "outputs": [],
   "source": [
    "import numpy as np\n",
    "import pandas as pd\n",
    "\n",
    "# load data\n",
    "df = pd.read_csv('../data/FIFA World Cup All Goals 1930-2022.csv', encoding='ISO-8859-1')"
   ]
  },
  {
   "cell_type": "markdown",
   "metadata": {},
   "source": [
    "# data cleaning"
   ]
  },
  {
   "cell_type": "code",
   "execution_count": 2,
   "metadata": {},
   "outputs": [],
   "source": [
    "# only preserve data after 1962 (because the lambda changed a lot before and after 1962) \n",
    "start_row = 578\n",
    "df_2 = df.iloc[start_row:,:]"
   ]
  },
  {
   "cell_type": "markdown",
   "metadata": {},
   "source": [
    "# basic statistics"
   ]
  },
  {
   "cell_type": "code",
   "execution_count": 3,
   "metadata": {},
   "outputs": [
    {
     "name": "stdout",
     "output_type": "stream",
     "text": [
      "The total number of goals of FIFA World Cup from 1930 to 2022:  2720\n",
      "The total number of goals of FIFA World Cup from 1962 to 2022:  2142\n"
     ]
    }
   ],
   "source": [
    "# print some useful information\n",
    "print(\"The total number of goals of FIFA World Cup from 1930 to 2022: \", df.shape[0])\n",
    "print(\"The total number of goals of FIFA World Cup from 1962 to 2022: \", df_2.shape[0])"
   ]
  },
  {
   "cell_type": "code",
   "execution_count": 4,
   "metadata": {},
   "outputs": [],
   "source": [
    "# get goal_time_str\n",
    "n_goal = df_2.shape[0]\n",
    "sub_str = \"'\"\n",
    "goal_time_str = ['nan'] * n_goal\n",
    "for i in range(start_row, start_row + n_goal):\n",
    "    if sub_str in df_2.loc[i, 'minute_label']:\n",
    "        goal_time_str[i - start_row] = df_2.loc[i, 'minute_label']\n",
    "    else:\n",
    "        goal_time_str[i - start_row] = df_2.loc[i, 'player_team_code']"
   ]
  },
  {
   "cell_type": "code",
   "execution_count": 5,
   "metadata": {},
   "outputs": [
    {
     "name": "stdout",
     "output_type": "stream",
     "text": [
      "minimum of goal time: 1 min\n",
      "maximum of goal time: 121 min\n",
      "The total number of goals in the stoppage time: 114\n",
      "The total number of goals in the stoppage time around 90 minutes: 79\n"
     ]
    }
   ],
   "source": [
    "# get goal_time from goal_time_str\n",
    "import re\n",
    "goal_time = np.zeros(n_goal)\n",
    "is_stoppage = np.zeros(n_goal, dtype=bool)\n",
    "is_stoppage_around_90 = np.zeros(n_goal, dtype=bool)\n",
    "sub_str = \"+\"\n",
    "\n",
    "for i in range(n_goal):\n",
    "    if sub_str in goal_time_str[i]:\n",
    "        parts = re.findall(r\"\\d+|'\", goal_time_str[i])\n",
    "        time_1 = np.fromstring(parts[0], dtype=int, sep=\" \")\n",
    "        time_2 = np.fromstring(parts[2], dtype=int, sep=\" \")\n",
    "        goal_time[i] = time_1 + time_2\n",
    "        is_stoppage[i] = True\n",
    "        if time_1 == 90:\n",
    "            is_stoppage_around_90[i] = True\n",
    "    else:\n",
    "        parts = goal_time_str[i].split(\"'\", 1)\n",
    "        goal_time[i] = np.fromstring(parts[0], dtype=int, sep=\" \")\n",
    "\n",
    "goal_time= goal_time.astype(int)\n",
    "\n",
    "# print some useful information\n",
    "print(\"minimum of goal time:\", np.min(goal_time), \"min\")\n",
    "print(\"maximum of goal time:\", np.max(goal_time), \"min\")\n",
    "print(\"The total number of goals in the stoppage time:\", sum(is_stoppage))\n",
    "print(\"The total number of goals in the stoppage time around 90 minutes:\", sum(is_stoppage_around_90))"
   ]
  },
  {
   "cell_type": "code",
   "execution_count": 6,
   "metadata": {},
   "outputs": [
    {
     "name": "stdout",
     "output_type": "stream",
     "text": [
      "The total number of matches: 752\n",
      "The average number of goals in a match: 2.8484\n",
      "ATTENTION: here we only take account matches with goals.\n"
     ]
    }
   ],
   "source": [
    "# get match_id\n",
    "match_id = df_2.loc[:,'match_id']\n",
    "n_match = match_id.nunique()\n",
    "\n",
    "# print some useful information\n",
    "print(\"The total number of matches:\", n_match)\n",
    "print(\"The average number of goals in a match: {:.4f}\".format(n_goal/n_match))\n",
    "print(\"ATTENTION: here we only take account matches with goals.\")"
   ]
  },
  {
   "cell_type": "markdown",
   "metadata": {},
   "source": [
    "# Poisson process"
   ]
  },
  {
   "cell_type": "code",
   "execution_count": 7,
   "metadata": {},
   "outputs": [
    {
     "name": "stdout",
     "output_type": "stream",
     "text": [
      "method: connect two adjacent games\n",
      "minimum of goal time: 1 min\n",
      "maximum of goal time: 163 min\n",
      "Mean of time intervals between goals: 33.0589 min\n",
      "Std of time intervals between goals: 29.3569 min\n"
     ]
    }
   ],
   "source": [
    "# calculate time intervals between goals\n",
    "\n",
    "# choose your flag\n",
    "flag = \"connect two adjacent games\"\n",
    "if flag == \"don't connect two adjacent games\":\n",
    "\n",
    "    # use goal time and match id to calculate goal time interval\n",
    "    goal_time_interval = np.zeros(n_goal)\n",
    "    count = 0\n",
    "    for i in range(1,n_goal): # start from the second, not the first\n",
    "        if match_id.iloc[i] == match_id.iloc[i - 1]:        \n",
    "            goal_time_interval[count] = goal_time[i] - goal_time[i - 1]\n",
    "            count += 1\n",
    "\n",
    "    # from float to int\n",
    "    goal_time_interval = goal_time_interval.astype(int)\n",
    "\n",
    "    # eliminate 0 elements\n",
    "    goal_time_interval_new = goal_time_interval[goal_time_interval != 0]\n",
    "\n",
    "elif flag == \"connect two adjacent games\":\n",
    "    goal_time_interval = np.zeros(n_goal)\n",
    "    count = 0\n",
    "    for i in range(1,n_goal): # start from the second, not the first\n",
    "        if match_id.iloc[i] == match_id.iloc[i - 1]:        \n",
    "            goal_time_interval[count] = goal_time[i] - goal_time[i - 1]\n",
    "            \n",
    "        elif match_id.iloc[i] != match_id.iloc[i - 1]:\n",
    "            if goal_time[i - 1] <= 90:\n",
    "                time_left = 90 - goal_time[i - 1]\n",
    "            elif goal_time[i - 1] > 90: \n",
    "                if is_stoppage_around_90[i] == True: # here should add if_win in next version\n",
    "                    time_left = 120 - goal_time[i - 1]\n",
    "                elif is_stoppage_around_90[i] == False:\n",
    "                    time_left = 120 - goal_time[i - 1]\n",
    "            goal_time_interval[count] = time_left + goal_time[i]\n",
    "            \n",
    "        count += 1\n",
    "\n",
    "        # from float to int\n",
    "        goal_time_interval = goal_time_interval.astype(int)\n",
    "\n",
    "        # eliminate 0 elements\n",
    "        goal_time_interval_new = goal_time_interval[goal_time_interval != 0]\n",
    "\n",
    "# check the minimum of goal-time-interval\n",
    "if np.min(goal_time_interval_new) == 0:\n",
    "    print(\"Oops, seems that 2 goals happen in the same minute or the stoppage time messes things up!\")\n",
    "\n",
    "# print some useful information\n",
    "print(\"method:\", flag)\n",
    "print(\"minimum of goal time:\", np.min(goal_time_interval_new), \"min\")\n",
    "print(\"maximum of goal time:\", np.max(goal_time_interval_new), \"min\")\n",
    "print(\"Mean of time intervals between goals: {:.4f}\".format(np.mean(goal_time_interval_new)), \"min\")\n",
    "print(\"Std of time intervals between goals: {:.4f}\".format(np.std(goal_time_interval_new)), \"min\")"
   ]
  },
  {
   "cell_type": "code",
   "execution_count": 8,
   "metadata": {},
   "outputs": [
    {
     "data": {
      "text/plain": [
       "<matplotlib.legend.Legend at 0x21b42fc3730>"
      ]
     },
     "execution_count": 8,
     "metadata": {},
     "output_type": "execute_result"
    },
    {
     "data": {
      "image/png": "[encoded data removed]",
      "text/plain": [
       "<Figure size 576x432 with 1 Axes>"
      ]
     },
     "metadata": {
      "needs_background": "light"
     },
     "output_type": "display_data"
    }
   ],
   "source": [
    "# plot hist\n",
    "import matplotlib.pyplot as plt\n",
    "plt.figure(figsize=(8, 6))\n",
    "n_bins = 10 # using n_bins is better than setting bin edges\n",
    "counts, edges, patches = plt.hist(goal_time_interval_new, bins=n_bins, edgecolor='black', density=True)\n",
    "\n",
    "# fit\n",
    "centers = (edges[:-1] + edges[1:]) / 2\n",
    "coeffs = np.polyfit(centers, np.log(counts), 1)\n",
    "slope = coeffs[0]\n",
    "intercept = coeffs[1]\n",
    "\n",
    "# plot fit\n",
    "poly = np.poly1d(coeffs)\n",
    "y_fit = np.exp(poly(centers))\n",
    "plt.plot(centers, y_fit, 'r--', label=f'Fit: slope={slope:.4f}, intercept={intercept:.4f}')\n",
    "\n",
    "# plot dots\n",
    "plt.scatter(centers, counts, color='blue', label='Data points')\n",
    "\n",
    "# semilogy\n",
    "plt.semilogy()\n",
    "\n",
    "# label, title, legend, ticks\n",
    "plt.xlabel('time interval between goals')\n",
    "plt.ylabel('probability density function')\n",
    "plt.title('Histogram (semilogy)\\nData collected within FIFA World Cup, from 1962 to 2022')\n",
    "plt.legend()\n",
    "# plt.xticks([0, 10, 20, 30, 40, 50, 60, 70, 80, 90],\n",
    "#            [\"0\", \"10\", \"20\", \"30\", \"40\", \"50\", \"60\", \"70\", \"80\", \"90\"],\n",
    "#            rotation = 0)\n",
    "\n",
    "# save\n",
    "# plt.savefig(\"histogram_\" + flag + \".jpg\")"
   ]
  },
  {
   "cell_type": "code",
   "execution_count": 9,
   "metadata": {},
   "outputs": [
    {
     "name": "stdout",
     "output_type": "stream",
     "text": [
      "The integral of pdf == 1\n",
      "Checking succeeds\n"
     ]
    }
   ],
   "source": [
    "# check pdf\n",
    "if sum(counts) * (edges[1] - edges[0]) == 1:\n",
    "    print(\"The integral of pdf == 1\")\n",
    "    print(\"Checking succeeds\")\n",
    "else:\n",
    "    print(\"The integral of pdf != 1\")\n",
    "    print(\"Checking fails\")"
   ]
  },
  {
   "cell_type": "code",
   "execution_count": 10,
   "metadata": {},
   "outputs": [
    {
     "name": "stdout",
     "output_type": "stream",
     "text": [
      "R-squared: 0.97616972\n"
     ]
    }
   ],
   "source": [
    "# use coefficient of determination to see the performance of fit\n",
    "ss_res = np.sum((counts - y_fit)**2)\n",
    "ss_tot = np.sum((counts - np.mean(counts))**2)\n",
    "r2 = 1 - (ss_res / ss_tot)\n",
    "print(\"R-squared: {:.8f}\".format(r2))"
   ]
  },
  {
   "cell_type": "markdown",
   "metadata": {},
   "source": [
    "# calculate lambda"
   ]
  },
  {
   "cell_type": "code",
   "execution_count": 11,
   "metadata": {},
   "outputs": [
    {
     "name": "stdout",
     "output_type": "stream",
     "text": [
      "lambda (method 1):  0.03282536911577918\n",
      "lambda (method 2):  0.03652923993930034\n",
      "lambda (method 3):  0.03024908518063267\n"
     ]
    }
   ],
   "source": [
    "# use 3 methods to calculate calculate\n",
    "lambda_method_1 = -coeffs[0]\n",
    "print(\"lambda (method 1): \", lambda_method_1)\n",
    "lambda_method_3 = np.e ** coeffs[1]\n",
    "print(\"lambda (method 2): \", lambda_method_3)\n",
    "lambda_method_3 = 1 / np.mean(goal_time_interval_new)\n",
    "print(\"lambda (method 3): \", lambda_method_3)"
   ]
  }
 ],
 "metadata": {
  "kernelspec": {
   "display_name": "base",
   "language": "python",
   "name": "python3"
  },
  "language_info": {
   "codemirror_mode": {
    "name": "ipython",
    "version": 3
   },
   "file_extension": ".py",
   "mimetype": "text/x-python",
   "name": "python",
   "nbconvert_exporter": "python",
   "pygments_lexer": "ipython3",
   "version": "3.9.7"
  },
  "orig_nbformat": 4
 },
 "nbformat": 4,
 "nbformat_minor": 2
}
